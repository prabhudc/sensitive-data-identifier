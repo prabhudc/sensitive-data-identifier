{
 "cells": [
  {
   "cell_type": "code",
   "execution_count": 669,
   "metadata": {},
   "outputs": [],
   "source": [
    "import nltk\n",
    "import re\n",
    "import random\n",
    "import time"
   ]
  },
  {
   "cell_type": "code",
   "execution_count": 675,
   "metadata": {},
   "outputs": [],
   "source": [
    "f_input_sens = open('files/input_sensitive.txt','rb')\n",
    "sesnsitive = []\n",
    "for line in f_input_sens:\n",
    "    sesnsitive.append(line)\n"
   ]
  },
  {
   "cell_type": "code",
   "execution_count": 676,
   "metadata": {},
   "outputs": [],
   "source": [
    "random.seed(time.time())"
   ]
  },
  {
   "cell_type": "code",
   "execution_count": 686,
   "metadata": {},
   "outputs": [],
   "source": [
    "f_input_dataset = open('files/10_oliver_twist.txt','r')\n",
    "f_output_dataset = open('files/output_10_oliver_twist','w')\n",
    "for line in f_input_dataset:\n",
    "    if(int(random.random()*100)%30 == 21 ):\n",
    "        f_output_dataset.write(sesnsitive[int(random.random()*100)%22])\n",
    "    f_output_dataset.write(line)"
   ]
  },
  {
   "cell_type": "code",
   "execution_count": 678,
   "metadata": {},
   "outputs": [],
   "source": [
    "f_input_sens.close()\n",
    "f_input_dataset.close()\n",
    "f_output_dataset.close()"
   ]
  },
  {
   "cell_type": "code",
   "execution_count": null,
   "metadata": {},
   "outputs": [],
   "source": []
  }
 ],
 "metadata": {
  "kernelspec": {
   "display_name": "Python 3",
   "language": "python",
   "name": "python3"
  },
  "language_info": {
   "codemirror_mode": {
    "name": "ipython",
    "version": 2
   },
   "file_extension": ".py",
   "mimetype": "text/x-python",
   "name": "python",
   "nbconvert_exporter": "python",
   "pygments_lexer": "ipython2",
   "version": "2.7.14"
  }
 },
 "nbformat": 4,
 "nbformat_minor": 2
}
