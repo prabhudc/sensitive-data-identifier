{
 "cells": [
  {
   "cell_type": "code",
   "execution_count": 1,
   "metadata": {
    "collapsed": true
   },
   "outputs": [],
   "source": [
    "import re\n",
    "import nltk"
   ]
  },
  {
   "cell_type": "code",
   "execution_count": 2,
   "metadata": {
    "collapsed": true
   },
   "outputs": [],
   "source": [
    "import cPickle as pickle"
   ]
  },
  {
   "cell_type": "code",
   "execution_count": 113,
   "metadata": {
    "collapsed": true
   },
   "outputs": [],
   "source": [
    "test_text='''Good Morning- welcome to the text information systems cs410 test. my Name is John (twitter- @John66) and here is my friend Mark ( @MarkT88)\n",
    "John is based out of Singapore and he is reachable at 212 834 5587 . to drop an email its john.mayers@gmail.com. the website is www.johnmayers.com\n",
    "Mark is based out of London and he is reachable at 713-455-6752, email is marktom@gmail.com. He also has a website www.markT.org \n",
    "John's Singapore national id is G5443455N . Mark's used to be in Singapore once and his National ID was G5662300N .\n",
    "John's alternate phone no is +6597724501.\n",
    "Let me send you a sample of credit card info. John's ccinfo is 5520390013453413 and Mark's is 379855587611009.\n",
    "Let us see if it can find out credit card if it has dashes here is one more 5520-3877-1345-9898'''"
   ]
  },
  {
   "cell_type": "code",
   "execution_count": 92,
   "metadata": {
    "collapsed": true
   },
   "outputs": [],
   "source": [
    "def find_emails(text):\n",
    "        \"\"\" Returns e-mail addresses [tag: EMAIL] \"\"\"\n",
    "        emails_regex = \"[a-zA-Z0-9._%+-]+@[a-zA-Z0-9.-]+\\.[a-zA-Z]{2,4}\"\n",
    "        emails_re = re.compile(emails_regex)\n",
    "        emails_list = [(\"EMAIL\", email) for email in emails_re.findall(text)]\n",
    "        return emails_list"
   ]
  },
  {
   "cell_type": "code",
   "execution_count": 93,
   "metadata": {
    "collapsed": true
   },
   "outputs": [],
   "source": [
    "def find_phoneNumber(text, regex=None):\n",
    "        \"\"\" Returns phone numbers\"\"\"\n",
    "\n",
    "        if not regex:\n",
    "            # Using US phone regex as default\n",
    "            regex = r'''(\\b\n",
    "                                \\d{3}     # area code is 3 digits (e.g. '800')\n",
    "                                \\D*         # optional separator is any number of non-digits\n",
    "                                \\d{3}     # trunk is 3 digits (e.g. '555')\n",
    "                                \\D*         # optional separator\n",
    "                                \\d{4}     # rest of number is 4 digits (e.g. '1212')\n",
    "                                )'''\n",
    "        \n",
    "        phone_re = re.compile(regex, re.VERBOSE)\n",
    "        phone_list = [(\"PHONE\", phone) for phone in phone_re.findall(text)]\n",
    "        return phone_list"
   ]
  },
  {
   "cell_type": "code",
   "execution_count": 94,
   "metadata": {
    "collapsed": true
   },
   "outputs": [],
   "source": [
    "def find_urls(text):\n",
    "        \"\"\" Returns URLs\"\"\"\n",
    "        url_regex = r'''\n",
    "                        (?xi)\n",
    "                            \\b\n",
    "                            (                           # Capture 1: entire matched URL\n",
    "                            (?:\n",
    "                                [a-z][\\w-]+:                # URL protocol and colon\n",
    "                                (?:\n",
    "                                /{1,3}                        # 1-3 slashes\n",
    "                                |                             #   or\n",
    "                                [a-z0-9%]                     # Single letter or digit or '%'\n",
    "                                                                # (Trying not to match e.g. \"URI::Escape\")\n",
    "                                )\n",
    "                                |                           #   or\n",
    "                                www\\d{0,3}[.]               # \"www.\", \"www1.\", \"www2.\" … \"www999.\"\n",
    "                                |                           #   or\n",
    "                                [a-z0-9.\\-]+[.][a-z]{2,4}/  # looks like domain name followed by a slash\n",
    "                            )\n",
    "                            (?:                           # One or more:\n",
    "                                [^\\s()<>]+                      # Run of non-space, non-()<>\n",
    "                                |                               #   or\n",
    "                                \\(([^\\s()<>]+|(\\([^\\s()<>]+\\)))*\\)  # balanced parens, up to 2 levels\n",
    "                            )+\n",
    "                            (?:                           # End with:\n",
    "                                \\(([^\\s()<>]+|(\\([^\\s()<>]+\\)))*\\)  # balanced parens, up to 2 levels\n",
    "                                |                                   #   or\n",
    "                                [^\\s`!()\\[\\]{};:'\".,<>?«»“”‘’]        # not a space or one of these punct chars\n",
    "                            )\n",
    "                        )'''\n",
    "\n",
    "        url_re = re.compile(url_regex, re.VERBOSE)\n",
    "        url_list = [(\"URL\", url[0]) for url in url_re.findall(text)]\n",
    "        return url_list"
   ]
  },
  {
   "cell_type": "code",
   "execution_count": 105,
   "metadata": {
    "collapsed": true
   },
   "outputs": [],
   "source": [
    "def find_singaporeID(text):\n",
    "        \"\"\"Returns Singapore National ID based on  characters and length long\"\"\"\n",
    "        ids_list = []\n",
    "        ends=['N','S','R']\n",
    "        starts=['G','S']\n",
    "        for sent in nltk.sent_tokenize(text):\n",
    "            for word in nltk.word_tokenize(sent):\n",
    "                if len(word) >=8 and any(word.startswith(start) for start in starts) and any(word.endswith(end) for end in ends) and any(char.isdigit() for char in word):\n",
    "                    ids_list.append((\"Singapore ID\", word))\n",
    "        return ids_list"
   ]
  },
  {
   "cell_type": "code",
   "execution_count": 106,
   "metadata": {
    "collapsed": true
   },
   "outputs": [],
   "source": [
    "def find_ids(text):\n",
    "        \"\"\"Returns IDs based on length - needs work to make it accurate\"\"\"\n",
    "        ids_list = []\n",
    "        for sent in nltk.sent_tokenize(text):\n",
    "            for word in nltk.word_tokenize(sent):\n",
    "                if len(word) >= 4 and len(word)<=8 and any(char.isdigit() for char in word):\n",
    "                    ids_list.append((\"ID\", word))\n",
    "        return ids_list"
   ]
  },
  {
   "cell_type": "code",
   "execution_count": 107,
   "metadata": {
    "collapsed": true
   },
   "outputs": [],
   "source": [
    "def find_twitterID(text):\n",
    "        \"\"\"Returns Twitter usernames\n",
    "        \"\"\"\n",
    "        twitter_regex = r'^|[^@\\w](@\\w{1,15})\\b'\n",
    "        twitter_re = re.compile(twitter_regex)\n",
    "        twitter_list = [(\"TWITTER\", twitter) for twitter in twitter_re.findall(\n",
    "            text) if twitter != \"\"]\n",
    "        return twitter_list"
   ]
  },
  {
   "cell_type": "code",
   "execution_count": 115,
   "metadata": {
    "collapsed": true
   },
   "outputs": [],
   "source": [
    "from nltk import word_tokenize, pos_tag, ne_chunk\n",
    "from nltk import Tree\n",
    "\n",
    "def get_chunks(text, label):\n",
    "    chunked = nltk.ne_chunk(nltk.pos_tag(nltk.word_tokenize(text)))\n",
    "    prev = None\n",
    "    continuous_chunk = []\n",
    "    current_chunk = []\n",
    "\n",
    "    for subtree in chunked:\n",
    "        if type(subtree) == nltk.Tree and subtree.label() == label:\n",
    "            current_chunk.append(\" \".join([token for token, pos in subtree.leaves()]))\n",
    "        elif current_chunk:\n",
    "            named_entity = \" \".join(current_chunk)\n",
    "            if named_entity not in continuous_chunk:\n",
    "                continuous_chunk.append(named_entity)\n",
    "                current_chunk = []\n",
    "        else:\n",
    "            continue\n",
    "\n",
    "    return continuous_chunk\n",
    "\n",
    "\n"
   ]
  },
  {
   "cell_type": "code",
   "execution_count": 116,
   "metadata": {},
   "outputs": [],
   "source": [
    "def find_location(text,label='GPE'):\n",
    "    loc_list = [('Location', loc ) for loc in get_chunks(text, label)]\n",
    "    return loc_list"
   ]
  },
  {
   "cell_type": "code",
   "execution_count": 117,
   "metadata": {
    "collapsed": true
   },
   "outputs": [],
   "source": [
    "def find_creditCard(text):\n",
    "        \"\"\"Returns CC Info based on length - can also find out if its AMEX or not\"\"\"\n",
    "        cc_regex=r'''(\\b(?:\\d[ -]*?){13,16}\\b)'''\n",
    "        cc_re = re.compile(cc_regex, re.VERBOSE)\n",
    "        cc_list=[]\n",
    "        for ccInfo in cc_re.findall(text):\n",
    "            if len(ccInfo) ==15:\n",
    "                cc_list.append((\"CreditCard-AMEX\", ccInfo))\n",
    "            else:\n",
    "                cc_list.append((\"CreditCard\", ccInfo))\n",
    "        return cc_list"
   ]
  },
  {
   "cell_type": "code",
   "execution_count": 118,
   "metadata": {},
   "outputs": [],
   "source": [
    "def find_sensitive_data(text, **kwargs):\n",
    "        \"\"\" Returns sensitive info\n",
    "        \"\"\"\n",
    "        return  find_singaporeID(text)+  \\\n",
    "                find_twitterID(text) + \\\n",
    "                find_emails(text) + \\\n",
    "                find_urls(text) + \\\n",
    "                find_phoneNumber(text)+ \\\n",
    "                find_location(text)+ \\\n",
    "                find_creditCard(text)\n",
    "\n",
    "\n"
   ]
  },
  {
   "cell_type": "code",
   "execution_count": 119,
   "metadata": {},
   "outputs": [
    {
     "data": {
      "text/plain": [
       "[('Singapore ID', 'G5443455N'),\n",
       " ('Singapore ID', 'G5662300N'),\n",
       " ('TWITTER', '@John66'),\n",
       " ('TWITTER', '@MarkT88'),\n",
       " ('EMAIL', 'john.mayers@gmail.com'),\n",
       " ('EMAIL', 'marktom@gmail.com'),\n",
       " ('URL', 'www.johnmayers.com'),\n",
       " ('URL', 'www.markT.org'),\n",
       " ('PHONE', '212 834 5587'),\n",
       " ('PHONE', '713-455-6752'),\n",
       " ('PHONE', '6597724501'),\n",
       " ('PHONE', '5520390013'),\n",
       " ('PHONE', '3798555876'),\n",
       " ('Location', 'Singapore'),\n",
       " ('Location', 'London'),\n",
       " ('CreditCard', '5520390013453413'),\n",
       " ('CreditCard-AMEX', '379855587611009'),\n",
       " ('CreditCard', '5520-3877-1345-9898')]"
      ]
     },
     "execution_count": 119,
     "metadata": {},
     "output_type": "execute_result"
    }
   ],
   "source": [
    "find_sensitive_data(test_text)"
   ]
  },
  {
   "cell_type": "code",
   "execution_count": null,
   "metadata": {},
   "outputs": [],
   "source": []
  },
  {
   "cell_type": "code",
   "execution_count": null,
   "metadata": {},
   "outputs": [],
   "source": []
  },
  {
   "cell_type": "code",
   "execution_count": 27,
   "metadata": {
    "collapsed": true
   },
   "outputs": [],
   "source": []
  },
  {
   "cell_type": "code",
   "execution_count": 84,
   "metadata": {},
   "outputs": [],
   "source": []
  },
  {
   "cell_type": "code",
   "execution_count": null,
   "metadata": {},
   "outputs": [],
   "source": []
  },
  {
   "cell_type": "code",
   "execution_count": null,
   "metadata": {
    "collapsed": true
   },
   "outputs": [],
   "source": []
  },
  {
   "cell_type": "code",
   "execution_count": null,
   "metadata": {
    "collapsed": true
   },
   "outputs": [],
   "source": []
  },
  {
   "cell_type": "code",
   "execution_count": null,
   "metadata": {
    "collapsed": true
   },
   "outputs": [],
   "source": []
  },
  {
   "cell_type": "code",
   "execution_count": null,
   "metadata": {},
   "outputs": [],
   "source": []
  },
  {
   "cell_type": "code",
   "execution_count": null,
   "metadata": {
    "collapsed": true
   },
   "outputs": [],
   "source": []
  },
  {
   "cell_type": "code",
   "execution_count": null,
   "metadata": {
    "collapsed": true
   },
   "outputs": [],
   "source": []
  },
  {
   "cell_type": "code",
   "execution_count": null,
   "metadata": {
    "collapsed": true
   },
   "outputs": [],
   "source": []
  },
  {
   "cell_type": "code",
   "execution_count": null,
   "metadata": {},
   "outputs": [],
   "source": []
  },
  {
   "cell_type": "code",
   "execution_count": null,
   "metadata": {
    "collapsed": true
   },
   "outputs": [],
   "source": []
  },
  {
   "cell_type": "code",
   "execution_count": null,
   "metadata": {},
   "outputs": [],
   "source": []
  },
  {
   "cell_type": "code",
   "execution_count": null,
   "metadata": {
    "collapsed": true
   },
   "outputs": [],
   "source": []
  },
  {
   "cell_type": "code",
   "execution_count": null,
   "metadata": {},
   "outputs": [],
   "source": []
  },
  {
   "cell_type": "code",
   "execution_count": null,
   "metadata": {},
   "outputs": [],
   "source": []
  },
  {
   "cell_type": "code",
   "execution_count": null,
   "metadata": {
    "collapsed": true
   },
   "outputs": [],
   "source": []
  },
  {
   "cell_type": "code",
   "execution_count": null,
   "metadata": {
    "collapsed": true
   },
   "outputs": [],
   "source": []
  }
 ],
 "metadata": {
  "kernelspec": {
   "display_name": "Python 2",
   "language": "python",
   "name": "python2"
  },
  "language_info": {
   "codemirror_mode": {
    "name": "ipython",
    "version": 2
   },
   "file_extension": ".py",
   "mimetype": "text/x-python",
   "name": "python",
   "nbconvert_exporter": "python",
   "pygments_lexer": "ipython2",
   "version": "2.7.15"
  }
 },
 "nbformat": 4,
 "nbformat_minor": 2
}
